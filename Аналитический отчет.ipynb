{
 "cells": [
  {
   "metadata": {},
   "cell_type": "markdown",
   "source": "**Подготовка к обучению моделей**",
   "id": "64b0e832cdcc0c53"
  },
  {
   "metadata": {},
   "cell_type": "markdown",
   "source": "Импорт необходимых библиотек",
   "id": "9d83bb4f0b5ed3a8"
  },
  {
   "metadata": {},
   "cell_type": "code",
   "outputs": [],
   "execution_count": null,
   "source": [
    "import pandas as pd\n",
    "from sklearn.compose import ColumnTransformer\n",
    "from sklearn.linear_model import LogisticRegression\n",
    "from sklearn.model_selection import train_test_split\n",
    "from sklearn.pipeline import Pipeline\n",
    "from sklearn.preprocessing import StandardScaler, OneHotEncoder\n",
    "from sklearn.metrics import roc_auc_score"
   ],
   "id": "485a1d6550bf1667"
  },
  {
   "metadata": {},
   "cell_type": "markdown",
   "source": "Загрузка данных и отбор признаков",
   "id": "d53626b57de3bc10"
  },
  {
   "metadata": {},
   "cell_type": "code",
   "outputs": [],
   "execution_count": null,
   "source": [
    "# загрузка датасета\n",
    "dataframe = pd.read_csv('data/dataset.csv')\n",
    "\n",
    "# категориальные признаки\n",
    "categorical_features = dataframe.nunique()[3:].index.to_list()\n",
    "# числовые признаки\n",
    "numeric_features = dataframe.nunique()[:2].index.to_list()\n",
    "\n",
    "x = dataframe.drop('target', axis=1)\n",
    "y = dataframe['target']\n",
    "\n",
    "random_state = 77\n",
    "#  разделяем  выборку на тестовую (20%), обучающую (60%) и валидационную (20%)\n",
    "x_train_val, x_test, y_train_val, y_test = train_test_split(\n",
    "    x, y,\n",
    "    test_size=0.2,\n",
    "    stratify=y,\n",
    "    random_state=random_state\n",
    ")\n",
    "\n",
    "x_train, x_val, y_train, y_val = train_test_split(\n",
    "    x_train_val, y_train_val,\n",
    "    test_size=0.25,  # четверть обучающей выборки\n",
    "    stratify=y_train_val,\n",
    "    random_state=random_state\n",
    ")"
   ],
   "id": "f8474ea502067fdf"
  },
  {
   "metadata": {},
   "cell_type": "markdown",
   "source": "**Базовая модель (Baseline)**",
   "id": "407c2591e2077f2f"
  },
  {
   "metadata": {},
   "cell_type": "markdown",
   "source": "В качестве базовой модели мы взяли логистическую регрессию. Будем использовать прямое кодирование (One Hot Encoding) для категориальных признаков и стандартизацию (Standard Scaler) для числовых",
   "id": "a2fa4edc4642e66e"
  },
  {
   "metadata": {},
   "cell_type": "code",
   "outputs": [],
   "execution_count": null,
   "source": [
    "model = Pipeline([\n",
    "    ('data_preprocessing', ColumnTransformer(\n",
    "        transformers=[\n",
    "            ('numeric', StandardScaler(), numeric_features),\n",
    "            ('categorical', OneHotEncoder(), categorical_features)\n",
    "        ])\n",
    "     ),\n",
    "    ('classification', LogisticRegression(\n",
    "        class_weight='balanced',\n",
    "        random_state=random_state\n",
    "    ))\n",
    "])"
   ],
   "id": "a56f9e0c6e6e6415"
  },
  {
   "metadata": {},
   "cell_type": "markdown",
   "source": "Обучение модели",
   "id": "85129e1b4b6d0fb5"
  },
  {
   "metadata": {},
   "cell_type": "code",
   "outputs": [],
   "execution_count": null,
   "source": "model.fit(x_train_val, y_train_val)",
   "id": "cc84e1e8e894248"
  },
  {
   "metadata": {},
   "cell_type": "markdown",
   "source": "Оценка модели (ROC-AUC)",
   "id": "ebeef8eff628b292"
  },
  {
   "metadata": {},
   "cell_type": "code",
   "outputs": [],
   "execution_count": null,
   "source": [
    "y_pred = model.predict(x_test)\n",
    "roc_auc = roc_auc_score(y_test, y_pred)\n",
    "print(f\"Значение метрики ROC-AUC: {roc_auc:.4f}\")"
   ],
   "id": "4344f0f0e9276fd7"
  }
 ],
 "metadata": {
  "kernelspec": {
   "display_name": "Python 3",
   "language": "python",
   "name": "python3"
  },
  "language_info": {
   "codemirror_mode": {
    "name": "ipython",
    "version": 2
   },
   "file_extension": ".py",
   "mimetype": "text/x-python",
   "name": "python",
   "nbconvert_exporter": "python",
   "pygments_lexer": "ipython2",
   "version": "2.7.6"
  }
 },
 "nbformat": 4,
 "nbformat_minor": 5
}
