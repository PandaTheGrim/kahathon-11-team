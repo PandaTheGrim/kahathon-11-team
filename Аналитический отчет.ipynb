{
 "cells": [
  {
   "metadata": {},
   "cell_type": "markdown",
   "source": "**Подготовка к обучению моделей**",
   "id": "64b0e832cdcc0c53"
  },
  {
   "metadata": {},
   "cell_type": "markdown",
   "source": "Импорт необходимых библиотек",
   "id": "9d83bb4f0b5ed3a8"
  },
  {
   "metadata": {},
   "cell_type": "code",
   "outputs": [],
   "execution_count": null,
   "source": [
    "import joblib\n",
    "import pandas as pd\n",
    "from sklearn.compose import ColumnTransformer\n",
    "from sklearn.dummy import DummyClassifier\n",
    "from sklearn.ensemble import GradientBoostingClassifier\n",
    "from sklearn.linear_model import LogisticRegression\n",
    "from sklearn.metrics import roc_auc_score\n",
    "from sklearn.model_selection import train_test_split\n",
    "from sklearn.pipeline import Pipeline\n",
    "from sklearn.preprocessing import StandardScaler, OneHotEncoder"
   ],
   "id": "485a1d6550bf1667"
  },
  {
   "metadata": {},
   "cell_type": "markdown",
   "source": "Загрузка данных и отбор признаков",
   "id": "d53626b57de3bc10"
  },
  {
   "metadata": {},
   "cell_type": "code",
   "outputs": [],
   "execution_count": null,
   "source": [
    "# загрузка датасета\n",
    "dataframe = pd.read_csv('data/dataset.csv')\n",
    "\n",
    "# категориальные признаки\n",
    "categorical_features = dataframe.nunique()[3:].index.to_list()\n",
    "# числовые признаки\n",
    "numeric_features = dataframe.nunique()[:2].index.to_list()\n",
    "\n",
    "x = dataframe.drop('target', axis=1)\n",
    "y = dataframe['target']\n",
    "\n",
    "random_state = 77\n",
    "#  разделяем  выборку на тестовую (20%), обучающую (60%) и валидационную (20%)\n",
    "x_train_val, x_test, y_train_val, y_test = train_test_split(\n",
    "    x, y,\n",
    "    test_size=0.2,\n",
    "    stratify=y,\n",
    "    random_state=random_state\n",
    ")\n",
    "\n",
    "x_train, x_val, y_train, y_val = train_test_split(\n",
    "    x_train_val, y_train_val,\n",
    "    test_size=0.25,  # четверть обучающей выборки\n",
    "    stratify=y_train_val,\n",
    "    random_state=random_state\n",
    ")"
   ],
   "id": "f8474ea502067fdf"
  },
  {
   "metadata": {},
   "cell_type": "markdown",
   "source": "**Baseline**",
   "id": "8407fd1cbea2de48"
  },
  {
   "metadata": {},
   "cell_type": "code",
   "outputs": [],
   "execution_count": null,
   "source": [
    "dummy = DummyClassifier(strategy=\"prior\")\n",
    "dummy.fit(x_train, y_train)\n",
    "roc_auc = roc_auc_score(y_test, dummy.predict_proba(x_test)[:, 1])\n",
    "print(f\"Значение метрики ROC-AUC для Baseline: {roc_auc:.4f}\")"
   ],
   "id": "7413f8eb359c4d3e"
  },
  {
   "metadata": {},
   "cell_type": "markdown",
   "source": "**Логистическая регрессия**",
   "id": "407c2591e2077f2f"
  },
  {
   "metadata": {},
   "cell_type": "markdown",
   "source": "В качестве первой модели мы взяли логистическую регрессию. Будем использовать прямое кодирование (One Hot Encoding) для категориальных признаков и стандартизацию (Standard Scaler) для числовых",
   "id": "a2fa4edc4642e66e"
  },
  {
   "metadata": {},
   "cell_type": "code",
   "outputs": [],
   "execution_count": null,
   "source": [
    "model = Pipeline([\n",
    "    ('data_preprocessing', ColumnTransformer(\n",
    "        transformers=[\n",
    "            ('numeric', StandardScaler(), numeric_features),\n",
    "            ('categorical', OneHotEncoder(), categorical_features)\n",
    "        ])\n",
    "     ),\n",
    "    ('classification', LogisticRegression(\n",
    "        class_weight='balanced',\n",
    "        random_state=random_state\n",
    "    ))\n",
    "])"
   ],
   "id": "a56f9e0c6e6e6415"
  },
  {
   "metadata": {},
   "cell_type": "markdown",
   "source": "Обучение модели",
   "id": "85129e1b4b6d0fb5"
  },
  {
   "metadata": {},
   "cell_type": "code",
   "outputs": [],
   "execution_count": null,
   "source": "model.fit(x_train_val, y_train_val)",
   "id": "cc84e1e8e894248"
  },
  {
   "metadata": {},
   "cell_type": "markdown",
   "source": "Оценка модели линейной регрессии (ROC-AUC)",
   "id": "ebeef8eff628b292"
  },
  {
   "metadata": {},
   "cell_type": "code",
   "outputs": [],
   "execution_count": null,
   "source": [
    "y_pred = model.predict(x_test)\n",
    "roc_auc = roc_auc_score(y_test, y_pred)\n",
    "print(f\"Значение метрики ROC-AUC для линейной регрессии: {roc_auc:.4f}\")"
   ],
   "id": "4344f0f0e9276fd7"
  },
  {
   "metadata": {},
   "cell_type": "markdown",
   "source": "Сохранение модели",
   "id": "34e161697731a1f4"
  },
  {
   "metadata": {},
   "cell_type": "code",
   "outputs": [],
   "execution_count": null,
   "source": "joblib.dump(model, 'models/logistic_regression.joblib')",
   "id": "6785ef006e66f16f"
  },
  {
   "metadata": {},
   "cell_type": "markdown",
   "source": "**Градиентный бустинг**",
   "id": "56a946fc582adb1a"
  },
  {
   "metadata": {},
   "cell_type": "code",
   "outputs": [],
   "execution_count": null,
   "source": [
    "params = {\n",
    "    'n_estimators': 150,\n",
    "    'learning_rate': 0.2,\n",
    "    'max_depth': 3,\n",
    "    'min_samples_split': 20,\n",
    "    'min_samples_leaf': 10,\n",
    "    'max_features': 'auto',\n",
    "    'subsample': 0.8,\n",
    "    'random_state': random_state\n",
    "}\n",
    "\n",
    "model = Pipeline([\n",
    "    ('data_preprocessing', ColumnTransformer(\n",
    "        transformers=[\n",
    "            ('num', StandardScaler(), numeric_features),\n",
    "            ('cat', OneHotEncoder(), categorical_features)\n",
    "        ])\n",
    "     ),\n",
    "    ('classification', GradientBoostingClassifier(**params))\n",
    "])"
   ],
   "id": "9394f378dba3bafa"
  },
  {
   "metadata": {},
   "cell_type": "markdown",
   "source": "Обучение модели",
   "id": "c7738686a10e5fd"
  },
  {
   "metadata": {},
   "cell_type": "code",
   "outputs": [],
   "execution_count": null,
   "source": "model.fit(x_train_val, y_train_val)",
   "id": "dde8c5bcdaa5666c"
  },
  {
   "metadata": {},
   "cell_type": "markdown",
   "source": "Оценка модели линейной регрессии (ROC-AUC)",
   "id": "8e4c8649f0c5f2bc"
  },
  {
   "metadata": {},
   "cell_type": "code",
   "outputs": [],
   "execution_count": null,
   "source": [
    "y_pred = model.predict(x_test)\n",
    "roc_auc = roc_auc_score(y_test, y_pred)\n",
    "print(f\"Значение метрики ROC-AUC для градиентного бустинга: {roc_auc:.4f}\")"
   ],
   "id": "ddf2ab17ecd8104b"
  },
  {
   "metadata": {},
   "cell_type": "markdown",
   "source": "Сохранение модели",
   "id": "bded96f67fbbb9e2"
  },
  {
   "metadata": {},
   "cell_type": "code",
   "outputs": [],
   "execution_count": null,
   "source": "joblib.dump(model, 'models/gradient_boosting.joblib')",
   "id": "23f195226a7ed3e2"
  }
 ],
 "metadata": {
  "kernelspec": {
   "display_name": "Python 3",
   "language": "python",
   "name": "python3"
  },
  "language_info": {
   "codemirror_mode": {
    "name": "ipython",
    "version": 2
   },
   "file_extension": ".py",
   "mimetype": "text/x-python",
   "name": "python",
   "nbconvert_exporter": "python",
   "pygments_lexer": "ipython2",
   "version": "2.7.6"
  }
 },
 "nbformat": 4,
 "nbformat_minor": 5
}
