{
 "cells": [
  {
   "metadata": {},
   "cell_type": "markdown",
   "source": "**Подготовка к обучению моделей**",
   "id": "64b0e832cdcc0c53"
  },
  {
   "metadata": {},
   "cell_type": "markdown",
   "source": "Импорт необходимых библиотек",
   "id": "9d83bb4f0b5ed3a8"
  },
  {
   "metadata": {
    "ExecuteTime": {
     "end_time": "2025-07-27T11:14:07.648094Z",
     "start_time": "2025-07-27T11:14:07.643804Z"
    }
   },
   "cell_type": "code",
   "source": [
    "import joblib\n",
    "import pandas as pd\n",
    "from sklearn.dummy import DummyClassifier\n",
    "from sklearn.ensemble import GradientBoostingClassifier\n",
    "from sklearn.linear_model import LogisticRegression\n",
    "from sklearn.metrics import roc_auc_score\n",
    "from sklearn.model_selection import train_test_split"
   ],
   "id": "11a4a83027713d86",
   "outputs": [],
   "execution_count": 16
  },
  {
   "metadata": {},
   "cell_type": "markdown",
   "source": "Загрузка данных и отбор признаков",
   "id": "d53626b57de3bc10"
  },
  {
   "metadata": {
    "ExecuteTime": {
     "end_time": "2025-07-27T11:15:52.774683Z",
     "start_time": "2025-07-27T11:15:48.006283Z"
    }
   },
   "cell_type": "code",
   "source": [
    "# загрузка датасета и удаление session_id\n",
    "dataframe = pd.read_csv('data/dataset.csv')\n",
    "# убраны: идентификатор сессии и фичи с высокой корреляцией к таргету\n",
    "dataframe.drop(columns=['session_id'], inplace=True)\n",
    "dataframe.drop(columns=['quiz_show'], inplace=True)\n",
    "dataframe.drop(columns=['showed_number_ads'], inplace=True)\n",
    "\n",
    "x = dataframe.drop('custom_target', axis=1)\n",
    "y = dataframe['custom_target']\n",
    "\n",
    "# для повторяемости\n",
    "random_state = 77\n",
    "#  разделяем  выборку на тестовую (20%), обучающую (60%) и валидационную (20%)\n",
    "x_train_val, x_test, y_train_val, y_test = train_test_split(\n",
    "    x, y,\n",
    "    test_size=0.2,\n",
    "    stratify=y,\n",
    "    random_state=random_state\n",
    ")\n",
    "\n",
    "x_train, x_val, y_train, y_val = train_test_split(\n",
    "    x_train_val, y_train_val,\n",
    "    test_size=0.25,  # четверть обучающей выборки\n",
    "    stratify=y_train_val,\n",
    "    random_state=random_state\n",
    ")"
   ],
   "id": "6f3087781c5ef23c",
   "outputs": [],
   "execution_count": 22
  },
  {
   "metadata": {},
   "cell_type": "markdown",
   "source": "**Baseline**",
   "id": "a170999880632712"
  },
  {
   "metadata": {
    "ExecuteTime": {
     "end_time": "2025-07-27T11:15:55.228890Z",
     "start_time": "2025-07-27T11:15:55.109083Z"
    }
   },
   "cell_type": "code",
   "source": [
    "dummy = DummyClassifier(strategy=\"prior\")\n",
    "dummy.fit(x_train, y_train)\n",
    "roc_auc = roc_auc_score(y_test, dummy.predict_proba(x_test)[:, 1])\n",
    "print(f\"Значение метрики ROC-AUC для Baseline: {roc_auc:.4f}\")"
   ],
   "id": "4c735e45f079268f",
   "outputs": [
    {
     "name": "stdout",
     "output_type": "stream",
     "text": [
      "Значение метрики ROC-AUC для Baseline: 0.5000\n"
     ]
    }
   ],
   "execution_count": 23
  },
  {
   "metadata": {},
   "cell_type": "markdown",
   "source": "**Логистическая регрессия**",
   "id": "407c2591e2077f2f"
  },
  {
   "metadata": {},
   "cell_type": "markdown",
   "source": "В качестве первой модели мы взяли логистическую регрессию. Будем использовать прямое кодирование (One Hot Encoding) для категориальных признаков и стандартизацию (Standard Scaler) для числовых",
   "id": "a2fa4edc4642e66e"
  },
  {
   "metadata": {
    "ExecuteTime": {
     "end_time": "2025-07-27T11:41:19.552837Z",
     "start_time": "2025-07-27T11:41:19.548901Z"
    }
   },
   "cell_type": "code",
   "source": [
    "model = LogisticRegression(\n",
    "    class_weight='balanced',\n",
    "    random_state=random_state\n",
    ")"
   ],
   "id": "8678065ae81f5d79",
   "outputs": [],
   "execution_count": 33
  },
  {
   "metadata": {},
   "cell_type": "markdown",
   "source": "Обучение модели",
   "id": "8e9c5b8070813e81"
  },
  {
   "metadata": {},
   "cell_type": "code",
   "outputs": [],
   "execution_count": null,
   "source": "model.fit(x_train_val, y_train_val)",
   "id": "1ae823530ad42b63"
  },
  {
   "metadata": {},
   "cell_type": "markdown",
   "source": "Оценка модели линейной регрессии (ROC-AUC)",
   "id": "ebeef8eff628b292"
  },
  {
   "metadata": {
    "ExecuteTime": {
     "end_time": "2025-07-27T11:16:04.259901Z",
     "start_time": "2025-07-27T11:16:04.139305Z"
    }
   },
   "cell_type": "code",
   "source": [
    "roc_auc = roc_auc_score(y_test, model.predict_proba(x_test)[:, 1])\n",
    "print(f\"Значение метрики ROC-AUC для линейной регрессии: {roc_auc}\")"
   ],
   "id": "f9860904b5384378",
   "outputs": [
    {
     "name": "stdout",
     "output_type": "stream",
     "text": [
      "Значение метрики ROC-AUC для линейной регрессии: 0.8680670400440691\n"
     ]
    }
   ],
   "execution_count": 26
  },
  {
   "metadata": {},
   "cell_type": "markdown",
   "source": "Сохранение модели",
   "id": "925235261d85d26e"
  },
  {
   "metadata": {
    "ExecuteTime": {
     "end_time": "2025-07-27T11:37:31.443172Z",
     "start_time": "2025-07-27T11:37:31.434573Z"
    }
   },
   "cell_type": "code",
   "source": "joblib.dump(model, 'model/logistic_regression.joblib')",
   "id": "648ba83bbb509eb",
   "outputs": [
    {
     "data": {
      "text/plain": [
       "['model/logistic_regression.joblib']"
      ]
     },
     "execution_count": 27,
     "metadata": {},
     "output_type": "execute_result"
    }
   ],
   "execution_count": 27
  },
  {
   "metadata": {},
   "cell_type": "markdown",
   "source": "**Градиентный бустинг**",
   "id": "56a946fc582adb1a"
  },
  {
   "metadata": {
    "ExecuteTime": {
     "end_time": "2025-07-27T11:40:57.469655Z",
     "start_time": "2025-07-27T11:40:57.465170Z"
    }
   },
   "cell_type": "code",
   "source": [
    "params = {\n",
    "    'n_estimators': 150,\n",
    "    'learning_rate': 0.2,\n",
    "    'max_depth': 3,\n",
    "    'min_samples_split': 20,\n",
    "    'min_samples_leaf': 10,\n",
    "    'max_features': 'sqrt',\n",
    "    'subsample': 0.8,\n",
    "    'random_state': random_state\n",
    "}\n",
    "\n",
    "model = GradientBoostingClassifier(**params)"
   ],
   "id": "f0ae6f7a1e7173c1",
   "outputs": [],
   "execution_count": 32
  },
  {
   "metadata": {},
   "cell_type": "markdown",
   "source": "Обучение модели",
   "id": "e4d92ed3dd177d1a"
  },
  {
   "metadata": {},
   "cell_type": "code",
   "outputs": [],
   "execution_count": null,
   "source": "model.fit(x_train_val, y_train_val)",
   "id": "7698cf02b3140db0"
  },
  {
   "metadata": {},
   "cell_type": "markdown",
   "source": "Оценка модели линейной регрессии (ROC-AUC)",
   "id": "8e4c8649f0c5f2bc"
  },
  {
   "metadata": {
    "ExecuteTime": {
     "end_time": "2025-07-27T11:38:45.973875Z",
     "start_time": "2025-07-27T11:38:45.218598Z"
    }
   },
   "cell_type": "code",
   "source": [
    "y_pred = model.predict(x_test)\n",
    "roc_auc = roc_auc_score(y_test, y_pred)\n",
    "print(f\"Значение метрики ROC-AUC для градиентного бустинга: {roc_auc}\")"
   ],
   "id": "ddf2ab17ecd8104b",
   "outputs": [
    {
     "name": "stdout",
     "output_type": "stream",
     "text": [
      "Значение метрики ROC-AUC для градиентного бустинга: 0.7328495901503762\n"
     ]
    }
   ],
   "execution_count": 30
  },
  {
   "metadata": {},
   "cell_type": "markdown",
   "source": "Сохранение модели",
   "id": "bded96f67fbbb9e2"
  },
  {
   "metadata": {
    "ExecuteTime": {
     "end_time": "2025-07-27T11:38:51.367646Z",
     "start_time": "2025-07-27T11:38:51.350599Z"
    }
   },
   "cell_type": "code",
   "source": "joblib.dump(model, 'model/gradient_boosting.joblib')",
   "id": "23f195226a7ed3e2",
   "outputs": [
    {
     "data": {
      "text/plain": [
       "['model/gradient_boosting.joblib']"
      ]
     },
     "execution_count": 31,
     "metadata": {},
     "output_type": "execute_result"
    }
   ],
   "execution_count": 31
  }
 ],
 "metadata": {
  "kernelspec": {
   "display_name": "Python 3",
   "language": "python",
   "name": "python3"
  },
  "language_info": {
   "codemirror_mode": {
    "name": "ipython",
    "version": 2
   },
   "file_extension": ".py",
   "mimetype": "text/x-python",
   "name": "python",
   "nbconvert_exporter": "python",
   "pygments_lexer": "ipython2",
   "version": "2.7.6"
  }
 },
 "nbformat": 4,
 "nbformat_minor": 5
}
